{
 "cells": [
  {
   "cell_type": "code",
   "execution_count": 1,
   "metadata": {},
   "outputs": [],
   "source": [
    "import pandas as pd\n",
    "import numpy as np\n",
    "import matplotlib.pyplot as plt"
   ]
  },
  {
   "cell_type": "code",
   "execution_count": 2,
   "metadata": {},
   "outputs": [
    {
     "name": "stderr",
     "output_type": "stream",
     "text": [
      "C:\\Users\\singhegm\\Anaconda3\\Anaconda1\\lib\\site-packages\\IPython\\core\\interactiveshell.py:3146: DtypeWarning: Columns (3) have mixed types.Specify dtype option on import or set low_memory=False.\n",
      "  has_raised = await self.run_ast_nodes(code_ast.body, cell_name,\n"
     ]
    }
   ],
   "source": [
    "data = pd.read_csv('COVID19INDIA_CAPSTPROJECT.csv')"
   ]
  },
  {
   "cell_type": "code",
   "execution_count": 3,
   "metadata": {},
   "outputs": [
    {
     "data": {
      "text/html": [
       "<div>\n",
       "<style scoped>\n",
       "    .dataframe tbody tr th:only-of-type {\n",
       "        vertical-align: middle;\n",
       "    }\n",
       "\n",
       "    .dataframe tbody tr th {\n",
       "        vertical-align: top;\n",
       "    }\n",
       "\n",
       "    .dataframe thead th {\n",
       "        text-align: right;\n",
       "    }\n",
       "</style>\n",
       "<table border=\"1\" class=\"dataframe\">\n",
       "  <thead>\n",
       "    <tr style=\"text-align: right;\">\n",
       "      <th></th>\n",
       "      <th>Unnamed: 0</th>\n",
       "      <th>Num Cases</th>\n",
       "      <th>Date Announced</th>\n",
       "      <th>Age Bracket</th>\n",
       "      <th>Gender</th>\n",
       "      <th>Detected City</th>\n",
       "      <th>Detected District</th>\n",
       "      <th>Detected State</th>\n",
       "      <th>Current Status</th>\n",
       "      <th>Day</th>\n",
       "      <th>Month</th>\n",
       "      <th>Year</th>\n",
       "    </tr>\n",
       "  </thead>\n",
       "  <tbody>\n",
       "    <tr>\n",
       "      <th>0</th>\n",
       "      <td>0</td>\n",
       "      <td>1</td>\n",
       "      <td>30/01/2020</td>\n",
       "      <td>20</td>\n",
       "      <td>F</td>\n",
       "      <td>Thrissur</td>\n",
       "      <td>Thrissur</td>\n",
       "      <td>Kerala</td>\n",
       "      <td>Recovered</td>\n",
       "      <td>30</td>\n",
       "      <td>1</td>\n",
       "      <td>2020</td>\n",
       "    </tr>\n",
       "    <tr>\n",
       "      <th>1</th>\n",
       "      <td>1</td>\n",
       "      <td>1</td>\n",
       "      <td>02/02/2020</td>\n",
       "      <td>NaN</td>\n",
       "      <td>NaN</td>\n",
       "      <td>Alappuzha</td>\n",
       "      <td>Alappuzha</td>\n",
       "      <td>Kerala</td>\n",
       "      <td>Recovered</td>\n",
       "      <td>2</td>\n",
       "      <td>2</td>\n",
       "      <td>2020</td>\n",
       "    </tr>\n",
       "    <tr>\n",
       "      <th>2</th>\n",
       "      <td>2</td>\n",
       "      <td>1</td>\n",
       "      <td>03/02/2020</td>\n",
       "      <td>NaN</td>\n",
       "      <td>NaN</td>\n",
       "      <td>Kasaragod</td>\n",
       "      <td>Kasaragod</td>\n",
       "      <td>Kerala</td>\n",
       "      <td>Recovered</td>\n",
       "      <td>3</td>\n",
       "      <td>2</td>\n",
       "      <td>2020</td>\n",
       "    </tr>\n",
       "    <tr>\n",
       "      <th>3</th>\n",
       "      <td>3</td>\n",
       "      <td>1</td>\n",
       "      <td>02/03/2020</td>\n",
       "      <td>45</td>\n",
       "      <td>M</td>\n",
       "      <td>East Delhi (Mayur Vihar)</td>\n",
       "      <td>East Delhi</td>\n",
       "      <td>Delhi</td>\n",
       "      <td>Recovered</td>\n",
       "      <td>2</td>\n",
       "      <td>3</td>\n",
       "      <td>2020</td>\n",
       "    </tr>\n",
       "    <tr>\n",
       "      <th>4</th>\n",
       "      <td>4</td>\n",
       "      <td>1</td>\n",
       "      <td>02/03/2020</td>\n",
       "      <td>24</td>\n",
       "      <td>M</td>\n",
       "      <td>Hyderabad</td>\n",
       "      <td>Hyderabad</td>\n",
       "      <td>Telangana</td>\n",
       "      <td>Recovered</td>\n",
       "      <td>2</td>\n",
       "      <td>3</td>\n",
       "      <td>2020</td>\n",
       "    </tr>\n",
       "  </tbody>\n",
       "</table>\n",
       "</div>"
      ],
      "text/plain": [
       "   Unnamed: 0  Num Cases Date Announced Age Bracket Gender  \\\n",
       "0           0          1     30/01/2020          20      F   \n",
       "1           1          1     02/02/2020         NaN    NaN   \n",
       "2           2          1     03/02/2020         NaN    NaN   \n",
       "3           3          1     02/03/2020          45      M   \n",
       "4           4          1     02/03/2020          24      M   \n",
       "\n",
       "              Detected City Detected District Detected State Current Status  \\\n",
       "0                  Thrissur          Thrissur         Kerala      Recovered   \n",
       "1                 Alappuzha         Alappuzha         Kerala      Recovered   \n",
       "2                 Kasaragod         Kasaragod         Kerala      Recovered   \n",
       "3  East Delhi (Mayur Vihar)        East Delhi          Delhi      Recovered   \n",
       "4                 Hyderabad         Hyderabad      Telangana      Recovered   \n",
       "\n",
       "   Day  Month  Year  \n",
       "0   30      1  2020  \n",
       "1    2      2  2020  \n",
       "2    3      2  2020  \n",
       "3    2      3  2020  \n",
       "4    2      3  2020  "
      ]
     },
     "execution_count": 3,
     "metadata": {},
     "output_type": "execute_result"
    }
   ],
   "source": [
    "data.head()"
   ]
  },
  {
   "cell_type": "code",
   "execution_count": 6,
   "metadata": {},
   "outputs": [
    {
     "data": {
      "text/html": [
       "<div>\n",
       "<style scoped>\n",
       "    .dataframe tbody tr th:only-of-type {\n",
       "        vertical-align: middle;\n",
       "    }\n",
       "\n",
       "    .dataframe tbody tr th {\n",
       "        vertical-align: top;\n",
       "    }\n",
       "\n",
       "    .dataframe thead th {\n",
       "        text-align: right;\n",
       "    }\n",
       "</style>\n",
       "<table border=\"1\" class=\"dataframe\">\n",
       "  <thead>\n",
       "    <tr style=\"text-align: right;\">\n",
       "      <th></th>\n",
       "      <th></th>\n",
       "      <th>Num Cases</th>\n",
       "    </tr>\n",
       "    <tr>\n",
       "      <th>Month</th>\n",
       "      <th>Day</th>\n",
       "      <th></th>\n",
       "    </tr>\n",
       "  </thead>\n",
       "  <tbody>\n",
       "    <tr>\n",
       "      <th rowspan=\"26\" valign=\"top\">3</th>\n",
       "      <th>4</th>\n",
       "      <td>135</td>\n",
       "    </tr>\n",
       "    <tr>\n",
       "      <th>5</th>\n",
       "      <td>27</td>\n",
       "    </tr>\n",
       "    <tr>\n",
       "      <th>7</th>\n",
       "      <td>54</td>\n",
       "    </tr>\n",
       "    <tr>\n",
       "      <th>9</th>\n",
       "      <td>108</td>\n",
       "    </tr>\n",
       "    <tr>\n",
       "      <th>10</th>\n",
       "      <td>108</td>\n",
       "    </tr>\n",
       "    <tr>\n",
       "      <th>11</th>\n",
       "      <td>216</td>\n",
       "    </tr>\n",
       "    <tr>\n",
       "      <th>12</th>\n",
       "      <td>108</td>\n",
       "    </tr>\n",
       "    <tr>\n",
       "      <th>13</th>\n",
       "      <td>162</td>\n",
       "    </tr>\n",
       "    <tr>\n",
       "      <th>14</th>\n",
       "      <td>297</td>\n",
       "    </tr>\n",
       "    <tr>\n",
       "      <th>15</th>\n",
       "      <td>216</td>\n",
       "    </tr>\n",
       "    <tr>\n",
       "      <th>16</th>\n",
       "      <td>324</td>\n",
       "    </tr>\n",
       "    <tr>\n",
       "      <th>17</th>\n",
       "      <td>378</td>\n",
       "    </tr>\n",
       "    <tr>\n",
       "      <th>18</th>\n",
       "      <td>594</td>\n",
       "    </tr>\n",
       "    <tr>\n",
       "      <th>19</th>\n",
       "      <td>567</td>\n",
       "    </tr>\n",
       "    <tr>\n",
       "      <th>20</th>\n",
       "      <td>1404</td>\n",
       "    </tr>\n",
       "    <tr>\n",
       "      <th>21</th>\n",
       "      <td>1809</td>\n",
       "    </tr>\n",
       "    <tr>\n",
       "      <th>22</th>\n",
       "      <td>1593</td>\n",
       "    </tr>\n",
       "    <tr>\n",
       "      <th>23</th>\n",
       "      <td>2214</td>\n",
       "    </tr>\n",
       "    <tr>\n",
       "      <th>24</th>\n",
       "      <td>1701</td>\n",
       "    </tr>\n",
       "    <tr>\n",
       "      <th>25</th>\n",
       "      <td>2025</td>\n",
       "    </tr>\n",
       "    <tr>\n",
       "      <th>26</th>\n",
       "      <td>1566</td>\n",
       "    </tr>\n",
       "    <tr>\n",
       "      <th>27</th>\n",
       "      <td>3780</td>\n",
       "    </tr>\n",
       "    <tr>\n",
       "      <th>28</th>\n",
       "      <td>3321</td>\n",
       "    </tr>\n",
       "    <tr>\n",
       "      <th>29</th>\n",
       "      <td>2862</td>\n",
       "    </tr>\n",
       "    <tr>\n",
       "      <th>30</th>\n",
       "      <td>4806</td>\n",
       "    </tr>\n",
       "    <tr>\n",
       "      <th>31</th>\n",
       "      <td>8262</td>\n",
       "    </tr>\n",
       "    <tr>\n",
       "      <th rowspan=\"19\" valign=\"top\">4</th>\n",
       "      <th>1</th>\n",
       "      <td>11421</td>\n",
       "    </tr>\n",
       "    <tr>\n",
       "      <th>2</th>\n",
       "      <td>13095</td>\n",
       "    </tr>\n",
       "    <tr>\n",
       "      <th>3</th>\n",
       "      <td>15012</td>\n",
       "    </tr>\n",
       "    <tr>\n",
       "      <th>4</th>\n",
       "      <td>15552</td>\n",
       "    </tr>\n",
       "    <tr>\n",
       "      <th>5</th>\n",
       "      <td>16362</td>\n",
       "    </tr>\n",
       "    <tr>\n",
       "      <th>6</th>\n",
       "      <td>13095</td>\n",
       "    </tr>\n",
       "    <tr>\n",
       "      <th>7</th>\n",
       "      <td>15390</td>\n",
       "    </tr>\n",
       "    <tr>\n",
       "      <th>8</th>\n",
       "      <td>15201</td>\n",
       "    </tr>\n",
       "    <tr>\n",
       "      <th>9</th>\n",
       "      <td>21924</td>\n",
       "    </tr>\n",
       "    <tr>\n",
       "      <th>10</th>\n",
       "      <td>23490</td>\n",
       "    </tr>\n",
       "    <tr>\n",
       "      <th>11</th>\n",
       "      <td>23031</td>\n",
       "    </tr>\n",
       "    <tr>\n",
       "      <th>12</th>\n",
       "      <td>20466</td>\n",
       "    </tr>\n",
       "    <tr>\n",
       "      <th>13</th>\n",
       "      <td>33561</td>\n",
       "    </tr>\n",
       "    <tr>\n",
       "      <th>14</th>\n",
       "      <td>27837</td>\n",
       "    </tr>\n",
       "    <tr>\n",
       "      <th>15</th>\n",
       "      <td>23868</td>\n",
       "    </tr>\n",
       "    <tr>\n",
       "      <th>16</th>\n",
       "      <td>28647</td>\n",
       "    </tr>\n",
       "    <tr>\n",
       "      <th>17</th>\n",
       "      <td>24894</td>\n",
       "    </tr>\n",
       "    <tr>\n",
       "      <th>18</th>\n",
       "      <td>36990</td>\n",
       "    </tr>\n",
       "    <tr>\n",
       "      <th>19</th>\n",
       "      <td>42633</td>\n",
       "    </tr>\n",
       "  </tbody>\n",
       "</table>\n",
       "</div>"
      ],
      "text/plain": [
       "           Num Cases\n",
       "Month Day           \n",
       "3     4          135\n",
       "      5           27\n",
       "      7           54\n",
       "      9          108\n",
       "      10         108\n",
       "      11         216\n",
       "      12         108\n",
       "      13         162\n",
       "      14         297\n",
       "      15         216\n",
       "      16         324\n",
       "      17         378\n",
       "      18         594\n",
       "      19         567\n",
       "      20        1404\n",
       "      21        1809\n",
       "      22        1593\n",
       "      23        2214\n",
       "      24        1701\n",
       "      25        2025\n",
       "      26        1566\n",
       "      27        3780\n",
       "      28        3321\n",
       "      29        2862\n",
       "      30        4806\n",
       "      31        8262\n",
       "4     1        11421\n",
       "      2        13095\n",
       "      3        15012\n",
       "      4        15552\n",
       "      5        16362\n",
       "      6        13095\n",
       "      7        15390\n",
       "      8        15201\n",
       "      9        21924\n",
       "      10       23490\n",
       "      11       23031\n",
       "      12       20466\n",
       "      13       33561\n",
       "      14       27837\n",
       "      15       23868\n",
       "      16       28647\n",
       "      17       24894\n",
       "      18       36990\n",
       "      19       42633"
      ]
     },
     "execution_count": 6,
     "metadata": {},
     "output_type": "execute_result"
    }
   ],
   "source": [
    "day = data[data['Current Status'] == 'Hospitalized'].groupby(['Month', 'Day'])[['Num Cases']].sum()\n",
    "day"
   ]
  },
  {
   "cell_type": "code",
   "execution_count": 9,
   "metadata": {
    "scrolled": true
   },
   "outputs": [
    {
     "data": {
      "text/plain": [
       "array([ 0,  1,  2,  3,  4,  5,  6,  7,  8,  9, 10, 11, 12, 13, 14, 15, 16,\n",
       "       17, 18, 19, 20, 21, 22, 23, 24, 25, 26, 27, 28, 29, 30, 31, 32, 33,\n",
       "       34, 35, 36, 37, 38, 39, 40, 41, 42, 43, 44])"
      ]
     },
     "execution_count": 9,
     "metadata": {},
     "output_type": "execute_result"
    }
   ],
   "source": [
    "x = np.arange(len(day))\n",
    "x"
   ]
  },
  {
   "cell_type": "code",
   "execution_count": 7,
   "metadata": {},
   "outputs": [
    {
     "data": {
      "text/plain": [
       "array([[  135],\n",
       "       [   27],\n",
       "       [   54],\n",
       "       [  108],\n",
       "       [  108],\n",
       "       [  216],\n",
       "       [  108],\n",
       "       [  162],\n",
       "       [  297],\n",
       "       [  216],\n",
       "       [  324],\n",
       "       [  378],\n",
       "       [  594],\n",
       "       [  567],\n",
       "       [ 1404],\n",
       "       [ 1809],\n",
       "       [ 1593],\n",
       "       [ 2214],\n",
       "       [ 1701],\n",
       "       [ 2025],\n",
       "       [ 1566],\n",
       "       [ 3780],\n",
       "       [ 3321],\n",
       "       [ 2862],\n",
       "       [ 4806],\n",
       "       [ 8262],\n",
       "       [11421],\n",
       "       [13095],\n",
       "       [15012],\n",
       "       [15552],\n",
       "       [16362],\n",
       "       [13095],\n",
       "       [15390],\n",
       "       [15201],\n",
       "       [21924],\n",
       "       [23490],\n",
       "       [23031],\n",
       "       [20466],\n",
       "       [33561],\n",
       "       [27837],\n",
       "       [23868],\n",
       "       [28647],\n",
       "       [24894],\n",
       "       [36990],\n",
       "       [42633]], dtype=int64)"
      ]
     },
     "execution_count": 7,
     "metadata": {},
     "output_type": "execute_result"
    }
   ],
   "source": [
    "y = day.values\n",
    "y"
   ]
  },
  {
   "cell_type": "markdown",
   "metadata": {},
   "source": [
    "### Model 3: Support Vector Machines - Radial Basis Function"
   ]
  },
  {
   "cell_type": "markdown",
   "metadata": {},
   "source": [
    "#### Step1: - Reshape and Standardization: standardising the data in a particular range\n",
    "    standardised_data = (x - mean)/std deviation"
   ]
  },
  {
   "cell_type": "code",
   "execution_count": 10,
   "metadata": {},
   "outputs": [],
   "source": [
    "x = x.reshape(-1, 1)\n",
    "y = y.reshape(-1, 1)"
   ]
  },
  {
   "cell_type": "code",
   "execution_count": 11,
   "metadata": {},
   "outputs": [],
   "source": [
    "from sklearn.preprocessing import StandardScaler\n",
    "sc_X = StandardScaler()\n",
    "sc_y = StandardScaler()"
   ]
  },
  {
   "cell_type": "code",
   "execution_count": 15,
   "metadata": {},
   "outputs": [
    {
     "data": {
      "text/plain": [
       "array([[-1.69397911],\n",
       "       [-1.61698006],\n",
       "       [-1.53998101],\n",
       "       [-1.46298196],\n",
       "       [-1.38598291],\n",
       "       [-1.30898386],\n",
       "       [-1.23198481],\n",
       "       [-1.15498576],\n",
       "       [-1.0779867 ],\n",
       "       [-1.00098765],\n",
       "       [-0.9239886 ],\n",
       "       [-0.84698955],\n",
       "       [-0.7699905 ],\n",
       "       [-0.69299145],\n",
       "       [-0.6159924 ],\n",
       "       [-0.53899335],\n",
       "       [-0.4619943 ],\n",
       "       [-0.38499525],\n",
       "       [-0.3079962 ],\n",
       "       [-0.23099715],\n",
       "       [-0.1539981 ],\n",
       "       [-0.07699905],\n",
       "       [ 0.        ],\n",
       "       [ 0.07699905],\n",
       "       [ 0.1539981 ],\n",
       "       [ 0.23099715],\n",
       "       [ 0.3079962 ],\n",
       "       [ 0.38499525],\n",
       "       [ 0.4619943 ],\n",
       "       [ 0.53899335],\n",
       "       [ 0.6159924 ],\n",
       "       [ 0.69299145],\n",
       "       [ 0.7699905 ],\n",
       "       [ 0.84698955],\n",
       "       [ 0.9239886 ],\n",
       "       [ 1.00098765],\n",
       "       [ 1.0779867 ],\n",
       "       [ 1.15498576],\n",
       "       [ 1.23198481],\n",
       "       [ 1.30898386],\n",
       "       [ 1.38598291],\n",
       "       [ 1.46298196],\n",
       "       [ 1.53998101],\n",
       "       [ 1.61698006],\n",
       "       [ 1.69397911]])"
      ]
     },
     "execution_count": 15,
     "metadata": {},
     "output_type": "execute_result"
    }
   ],
   "source": [
    "sx = sc_X.fit_transform(x)\n",
    "sx"
   ]
  },
  {
   "cell_type": "code",
   "execution_count": 16,
   "metadata": {},
   "outputs": [
    {
     "data": {
      "text/plain": [
       "array([[-0.86297041],\n",
       "       [-0.87218744],\n",
       "       [-0.86988318],\n",
       "       [-0.86527467],\n",
       "       [-0.86527467],\n",
       "       [-0.85605763],\n",
       "       [-0.86527467],\n",
       "       [-0.86066615],\n",
       "       [-0.84914486],\n",
       "       [-0.85605763],\n",
       "       [-0.8468406 ],\n",
       "       [-0.84223208],\n",
       "       [-0.82379801],\n",
       "       [-0.82610227],\n",
       "       [-0.75467026],\n",
       "       [-0.72010638],\n",
       "       [-0.73854045],\n",
       "       [-0.6855425 ],\n",
       "       [-0.72932341],\n",
       "       [-0.70167231],\n",
       "       [-0.74084471],\n",
       "       [-0.55189551],\n",
       "       [-0.59106791],\n",
       "       [-0.6302403 ],\n",
       "       [-0.46433369],\n",
       "       [-0.1693886 ],\n",
       "       [ 0.10020964],\n",
       "       [ 0.24307367],\n",
       "       [ 0.40667602],\n",
       "       [ 0.45276119],\n",
       "       [ 0.52188894],\n",
       "       [ 0.24307367],\n",
       "       [ 0.43893564],\n",
       "       [ 0.42280583],\n",
       "       [ 0.99656619],\n",
       "       [ 1.13021319],\n",
       "       [ 1.09104079],\n",
       "       [ 0.87213623],\n",
       "       [ 1.9897016 ],\n",
       "       [ 1.5011988 ],\n",
       "       [ 1.1624728 ],\n",
       "       [ 1.57032656],\n",
       "       [ 1.25003463],\n",
       "       [ 2.28234243],\n",
       "       [ 2.76393245]])"
      ]
     },
     "execution_count": 16,
     "metadata": {},
     "output_type": "execute_result"
    }
   ],
   "source": [
    "sy = sc_y.fit_transform(y)\n",
    "sy"
   ]
  },
  {
   "cell_type": "code",
   "execution_count": 19,
   "metadata": {},
   "outputs": [
    {
     "data": {
      "text/plain": [
       "SVR()"
      ]
     },
     "execution_count": 19,
     "metadata": {},
     "output_type": "execute_result"
    }
   ],
   "source": [
    "from sklearn.svm import SVR\n",
    "regressor = SVR(kernel = 'rbf')\n",
    "regressor.fit(sx,sy.ravel())     # ravel() converts 2-D array into 1-D array, we can use if wish to"
   ]
  },
  {
   "cell_type": "code",
   "execution_count": 23,
   "metadata": {},
   "outputs": [
    {
     "data": {
      "image/png": "[encoded data removed]",
      "text/plain": [
       "<Figure size 432x288 with 1 Axes>"
      ]
     },
     "metadata": {
      "needs_background": "light"
     },
     "output_type": "display_data"
    }
   ],
   "source": [
    "plt.scatter(sx, sy)\n",
    "plt.scatter(sx, regressor.predict(sx))\n",
    "plt.show()"
   ]
  },
  {
   "cell_type": "code",
   "execution_count": 21,
   "metadata": {},
   "outputs": [
    {
     "data": {
      "text/plain": [
       "92.19631377006539"
      ]
     },
     "execution_count": 21,
     "metadata": {},
     "output_type": "execute_result"
    }
   ],
   "source": [
    "regressor.score(sx, sy) * 100"
   ]
  },
  {
   "cell_type": "markdown",
   "metadata": {},
   "source": [
    "## we can see that SVM-RBF gives 92.2% Accuracy"
   ]
  },
  {
   "cell_type": "markdown",
   "metadata": {},
   "source": [
    "# Model 4: Decision Tree Regression"
   ]
  },
  {
   "cell_type": "code",
   "execution_count": 26,
   "metadata": {},
   "outputs": [
    {
     "data": {
      "text/plain": [
       "DecisionTreeRegressor()"
      ]
     },
     "execution_count": 26,
     "metadata": {},
     "output_type": "execute_result"
    }
   ],
   "source": [
    "from sklearn.tree import DecisionTreeRegressor\n",
    "reg = DecisionTreeRegressor()\n",
    "reg.fit(x,y)"
   ]
  },
  {
   "cell_type": "code",
   "execution_count": 33,
   "metadata": {},
   "outputs": [
    {
     "data": {
      "text/plain": [
       "array([[1.3500e+02],\n",
       "       [2.7000e+01],\n",
       "       [5.4000e+01],\n",
       "       [1.0800e+02],\n",
       "       [1.0800e+02],\n",
       "       [2.1600e+02],\n",
       "       [1.0800e+02],\n",
       "       [1.6200e+02],\n",
       "       [2.9700e+02],\n",
       "       [2.1600e+02],\n",
       "       [3.2400e+02],\n",
       "       [3.7800e+02],\n",
       "       [5.9400e+02],\n",
       "       [5.6700e+02],\n",
       "       [1.4040e+03],\n",
       "       [1.8090e+03],\n",
       "       [1.5930e+03],\n",
       "       [2.2140e+03],\n",
       "       [1.7010e+03],\n",
       "       [2.0250e+03],\n",
       "       [1.5660e+03],\n",
       "       [3.7800e+03],\n",
       "       [3.3210e+03],\n",
       "       [2.8620e+03],\n",
       "       [4.8060e+03],\n",
       "       [8.2620e+03],\n",
       "       [1.1421e+04],\n",
       "       [1.3095e+04],\n",
       "       [1.5012e+04],\n",
       "       [1.5552e+04],\n",
       "       [1.6362e+04],\n",
       "       [1.3095e+04],\n",
       "       [1.5390e+04],\n",
       "       [1.5201e+04],\n",
       "       [2.1924e+04],\n",
       "       [2.3490e+04],\n",
       "       [2.3031e+04],\n",
       "       [2.0466e+04],\n",
       "       [3.3561e+04],\n",
       "       [2.7837e+04],\n",
       "       [2.3868e+04],\n",
       "       [2.8647e+04],\n",
       "       [2.4894e+04],\n",
       "       [3.6990e+04],\n",
       "       [4.2633e+04]])"
      ]
     },
     "execution_count": 33,
     "metadata": {},
     "output_type": "execute_result"
    }
   ],
   "source": [
    "Yp = reg.predict(x)\n",
    "Yp = Yp.reshape(-1, 1)\n",
    "Yp"
   ]
  },
  {
   "cell_type": "code",
   "execution_count": 34,
   "metadata": {},
   "outputs": [
    {
     "data": {
      "image/png": "[encoded data removed]",
      "text/plain": [
       "<Figure size 432x288 with 1 Axes>"
      ]
     },
     "metadata": {
      "needs_background": "light"
     },
     "output_type": "display_data"
    }
   ],
   "source": [
    "plt.scatter(x, y)\n",
    "plt.plot(x, Yp, color = 'k', linewidth = 2)\n",
    "plt.show()"
   ]
  },
  {
   "cell_type": "code",
   "execution_count": 35,
   "metadata": {},
   "outputs": [
    {
     "data": {
      "text/plain": [
       "100.0"
      ]
     },
     "execution_count": 35,
     "metadata": {},
     "output_type": "execute_result"
    }
   ],
   "source": [
    "reg.score(x, y) * 100"
   ]
  },
  {
   "cell_type": "code",
   "execution_count": 37,
   "metadata": {},
   "outputs": [
    {
     "data": {
      "text/plain": [
       "array([42633.])"
      ]
     },
     "execution_count": 37,
     "metadata": {},
     "output_type": "execute_result"
    }
   ],
   "source": [
    "reg.predict([[44]])"
   ]
  },
  {
   "cell_type": "code",
   "execution_count": 38,
   "metadata": {},
   "outputs": [
    {
     "data": {
      "text/plain": [
       "array([42633], dtype=int64)"
      ]
     },
     "execution_count": 38,
     "metadata": {},
     "output_type": "execute_result"
    }
   ],
   "source": [
    "y[44]"
   ]
  },
  {
   "cell_type": "code",
   "execution_count": 39,
   "metadata": {},
   "outputs": [
    {
     "data": {
      "text/plain": [
       "array([42633.])"
      ]
     },
     "execution_count": 39,
     "metadata": {},
     "output_type": "execute_result"
    }
   ],
   "source": [
    "reg.predict([[48]])"
   ]
  },
  {
   "cell_type": "code",
   "execution_count": 40,
   "metadata": {},
   "outputs": [
    {
     "data": {
      "text/plain": [
       "array([42633.])"
      ]
     },
     "execution_count": 40,
     "metadata": {},
     "output_type": "execute_result"
    }
   ],
   "source": [
    "reg.predict([[95]])"
   ]
  },
  {
   "cell_type": "markdown",
   "metadata": {},
   "source": [
    "### Here we can see the model is Overfitting, as we can see the distribution between x and y plot is not sufficient to use Decision Tree model also we have provided more features to the model for making the prediction also ."
   ]
  },
  {
   "cell_type": "markdown",
   "metadata": {},
   "source": [
    "# Model 5: Random Forest Regression"
   ]
  },
  {
   "cell_type": "code",
   "execution_count": 44,
   "metadata": {},
   "outputs": [
    {
     "data": {
      "text/plain": [
       "RandomForestRegressor()"
      ]
     },
     "execution_count": 44,
     "metadata": {},
     "output_type": "execute_result"
    }
   ],
   "source": [
    "from sklearn.ensemble import RandomForestRegressor\n",
    "freg = RandomForestRegressor()\n",
    "freg.fit(x,y.ravel())"
   ]
  },
  {
   "cell_type": "code",
   "execution_count": 46,
   "metadata": {},
   "outputs": [
    {
     "data": {
      "text/plain": [
       "98.99199936407425"
      ]
     },
     "execution_count": 46,
     "metadata": {},
     "output_type": "execute_result"
    }
   ],
   "source": [
    "freg.score(x,y) * 100"
   ]
  },
  {
   "cell_type": "code",
   "execution_count": 50,
   "metadata": {},
   "outputs": [
    {
     "data": {
      "text/plain": [
       "array([[  106.92],\n",
       "       [   59.4 ],\n",
       "       [   52.92],\n",
       "       [   90.45],\n",
       "       [  116.37],\n",
       "       [  176.58],\n",
       "       [  141.21],\n",
       "       [  160.65],\n",
       "       [  256.23],\n",
       "       [  248.4 ],\n",
       "       [  306.18],\n",
       "       [  374.49],\n",
       "       [  538.11],\n",
       "       [  635.85],\n",
       "       [ 1212.57],\n",
       "       [ 1628.37],\n",
       "       [ 1662.93],\n",
       "       [ 2050.65],\n",
       "       [ 1851.39],\n",
       "       [ 1919.97],\n",
       "       [ 1945.89],\n",
       "       [ 3202.74],\n",
       "       [ 3328.02],\n",
       "       [ 3161.16],\n",
       "       [ 4410.18],\n",
       "       [ 7747.92],\n",
       "       [10675.53],\n",
       "       [12715.11],\n",
       "       [14604.57],\n",
       "       [15372.99],\n",
       "       [15813.63],\n",
       "       [14281.38],\n",
       "       [14832.72],\n",
       "       [16050.69],\n",
       "       [20795.94],\n",
       "       [22779.9 ],\n",
       "       [23277.51],\n",
       "       [22505.58],\n",
       "       [29110.05],\n",
       "       [28763.1 ],\n",
       "       [25568.73],\n",
       "       [27753.03],\n",
       "       [26747.01],\n",
       "       [33458.94],\n",
       "       [39280.14]])"
      ]
     },
     "execution_count": 50,
     "metadata": {},
     "output_type": "execute_result"
    }
   ],
   "source": [
    "fy = freg.predict(x)\n",
    "fy = fy.reshape(-1, 1)\n",
    "fy"
   ]
  },
  {
   "cell_type": "code",
   "execution_count": 48,
   "metadata": {},
   "outputs": [
    {
     "data": {
      "text/plain": [
       "array([39280.14])"
      ]
     },
     "execution_count": 48,
     "metadata": {},
     "output_type": "execute_result"
    }
   ],
   "source": [
    "freg.predict([[44]])"
   ]
  },
  {
   "cell_type": "code",
   "execution_count": 49,
   "metadata": {},
   "outputs": [
    {
     "data": {
      "text/plain": [
       "array([39280.14])"
      ]
     },
     "execution_count": 49,
     "metadata": {},
     "output_type": "execute_result"
    }
   ],
   "source": [
    "freg.predict([[48]])"
   ]
  },
  {
   "cell_type": "code",
   "execution_count": 52,
   "metadata": {},
   "outputs": [
    {
     "data": {
      "image/png": "[encoded data removed]",
      "text/plain": [
       "<Figure size 432x288 with 1 Axes>"
      ]
     },
     "metadata": {
      "needs_background": "light"
     },
     "output_type": "display_data"
    }
   ],
   "source": [
    "plt.scatter(x, y)\n",
    "plt.plot(x, fy, color = 'k', linewidth = 2)\n",
    "plt.show()"
   ]
  },
  {
   "cell_type": "markdown",
   "metadata": {},
   "source": [
    "### here also we can see Overfitting of the model, hence not a best choice for linear relation"
   ]
  },
  {
   "cell_type": "markdown",
   "metadata": {},
   "source": [
    "## Conclusion - We can see that Polynomial Regression model is the best for now but when the case will satrt decreasing more and the behaviour of the graph will become curve then we can change our model to SVM with RBF kernel."
   ]
  }
 ],
 "metadata": {
  "kernelspec": {
   "display_name": "Python 3",
   "language": "python",
   "name": "python3"
  },
  "language_info": {
   "codemirror_mode": {
    "name": "ipython",
    "version": 3
   },
   "file_extension": ".py",
   "mimetype": "text/x-python",
   "name": "python",
   "nbconvert_exporter": "python",
   "pygments_lexer": "ipython3",
   "version": "3.8.5"
  }
 },
 "nbformat": 4,
 "nbformat_minor": 4
}
